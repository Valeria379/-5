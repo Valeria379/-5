{
  "nbformat": 4,
  "nbformat_minor": 0,
  "metadata": {
    "colab": {
      "name": "Лабораторная работа №5",
      "provenance": [],
      "authorship_tag": "ABX9TyPx7MlJT0nSnTWPT15snd/o",
      "include_colab_link": true
    },
    "kernelspec": {
      "name": "python3",
      "display_name": "Python 3"
    },
    "language_info": {
      "name": "python"
    }
  },
  "cells": [
    {
      "cell_type": "markdown",
      "metadata": {
        "id": "view-in-github",
        "colab_type": "text"
      },
      "source": [
        "<a href=\"https://colab.research.google.com/github/Valeria379/-5/blob/master/%D0%9B%D0%B0%D0%B1%D0%BE%D1%80%D0%B0%D1%82%D0%BE%D1%80%D0%BD%D0%B0%D1%8F_%D1%80%D0%B0%D0%B1%D0%BE%D1%82%D0%B0_%E2%84%965.ipynb\" target=\"_parent\"><img src=\"https://colab.research.google.com/assets/colab-badge.svg\" alt=\"Open In Colab\"/></a>"
      ]
    },
    {
      "cell_type": "markdown",
      "metadata": {
        "id": "jwTk9kdQC927"
      },
      "source": [
        "5.2.1\n"
      ]
    },
    {
      "cell_type": "code",
      "metadata": {
        "colab": {
          "base_uri": "https://localhost:8080/"
        },
        "id": "s7B99JCGiS66",
        "outputId": "a6205100-cb27-4e7c-b826-f60ed6c4223d"
      },
      "source": [
        "# Задание task_05_02_01.\n",
        "#\n",
        "# Выполнил: Морозова Валерия\n",
        "# Группа: АДЭУ-211\n",
        "# E-mail: !!!\n",
        "\n",
        "\n",
        "def sgn(x):\n",
        "  if x > 0:\n",
        "      return 1\n",
        "  elif x == 0:\n",
        "      return 0\n",
        "  else:\n",
        "      return -1\n",
        "\n",
        "    \n",
        "\n",
        "x = float(input(\"Введите x=\"))\n",
        "y = float(input(\"Введите y=\"))\n",
        "\n",
        "z = (sgn(x) + y**2)/(sgn(y) - (abs(x)**(1/2)))\n",
        "\n",
        "print(\"Ответ:\", z)\n",
        "\n",
        "# --------------\n",
        "# Пример вывода:\n",
        "#\n",
        "# Введите x: -9\n",
        "# Введите y: 0\n",
        "# Ответ: 0.33\n"
      ],
      "execution_count": null,
      "outputs": [
        {
          "output_type": "stream",
          "name": "stdout",
          "text": [
            "Введите x=-7\n",
            "Введите y=3\n",
            "Ответ: -4.86100174808612\n"
          ]
        }
      ]
    },
    {
      "cell_type": "markdown",
      "metadata": {
        "id": "hyS9a6eHC8tp"
      },
      "source": [
        "5.2.2\n",
        "\n",
        "Дан список температурных изменений в течение дня (целые числа). Известно, что измеряющее устройство иногда сбоит и записывает отсутствие температуры (значение None).\n",
        "\n",
        "Выведите среднюю температуру за наблюдаемый промежуток времени, предварительно очистив список от неопределенных значений. Гарантируется, что хотя бы одно определенное значение в списке есть."
      ]
    },
    {
      "cell_type": "code",
      "metadata": {
        "id": "Taft-uJkEekg",
        "colab": {
          "base_uri": "https://localhost:8080/"
        },
        "outputId": "0aa46ead-078a-4a65-ea6f-c4fb8cc13c4f"
      },
      "source": [
        "# Задание task_05_02_02.\n",
        "#\n",
        "# Выполнил: Морозова\n",
        "# Группа: !!!\n",
        "# E-mail: !!!\n",
        "\n",
        "\n",
        "def avg(data):\n",
        "  sum = 0\n",
        "  for i in data:\n",
        "    sum += int(i)\n",
        "  avg_count = sum / len(data)\n",
        "  return avg_count\n",
        "    \n",
        "\n",
        "\n",
        "def cleared_data(data):\n",
        "    for el in data:\n",
        "      if el == None:\n",
        "        data.remove(el)\n",
        "    return data\n",
        "    # Удалите комментарий и допишите код\n",
        "\n",
        "\n",
        "n = int(input(''))\n",
        "data = []\n",
        "for i in range(n):\n",
        "  temp = input('Измерение {}: '.format(i+1))\n",
        "  if temp == \"-\":\n",
        "    temp = None\n",
        "  data.append(temp)\n",
        "cleared_data(data)\n",
        "print(avg(data))\n",
        "\n",
        "# Получить очищенный список и среднее значение\n",
        "# Удалите комментарий и допишите код\n",
        "\n",
        "# --------------\n",
        "# Пример вывода:\n",
        "#\n",
        "# Кол-во измерений: 3\n",
        "# Измерение 1-е: 10\n",
        "# Измерение 2-е: -\n",
        "# Измерение 3-е: 20\n",
        "# Средняя температура: 15.00\n"
      ],
      "execution_count": 1,
      "outputs": [
        {
          "output_type": "stream",
          "name": "stdout",
          "text": [
            "3\n",
            "Измерение 1: 15\n",
            "Измерение 2: -\n",
            "Измерение 3: 30\n",
            "22.5\n"
          ]
        }
      ]
    },
    {
      "cell_type": "markdown",
      "metadata": {
        "id": "hWrwOmCaHxx-"
      },
      "source": [
        "5.2.3\n",
        "\n",
        "Выведите все счастливые номера билетов в диапазоне от  до  (положительные целые числа, a < b ), если известно, что счастливым считается номер, у которого количество четных цифр равно количеству нечетных."
      ]
    },
    {
      "cell_type": "code",
      "metadata": {
        "colab": {
          "base_uri": "https://localhost:8080/"
        },
        "id": "-NExJj64H7FI",
        "outputId": "89a7ec1e-bb53-442f-a217-3653eed5fa91"
      },
      "source": [
        "# Задание task_05_02_03.\n",
        "#\n",
        "# Выполнил: Морозова\n",
        "# Группа: !!!\n",
        "# E-mail: !!!\n",
        "def is_lucky(num):\n",
        "  count1 = 0\n",
        "  count2 = 0\n",
        "  while num > 0:\n",
        "    if (num % 10 % 2) == 0:\n",
        "      count2 += 1\n",
        "    else:\n",
        "      count1 += 1\n",
        "    num //= 10 \n",
        "\n",
        "  if count1 == count2:\n",
        "    return True\n",
        "  else:\n",
        "    return False\n",
        "\n",
        "\n",
        "def lucky_numbers(a, b):\n",
        "    for num in range(a, b + 1):\n",
        "      if is_lucky(num) == True:\n",
        "        print(num, end = ' ')\n",
        "\n",
        "      \n",
        "\n",
        "\n",
        "a = int(input(\"Первый номер билета:\" ))\n",
        "b = int(input(\"Последний номер билета:\" ))\n",
        "print(lucky_numbers(a, b))\n",
        "\n",
        "\n",
        "# Вывод должен быть осуществлен в строку с одним пробелом-разделителем\n",
        "# Удалите комментарий и допишите код\n",
        "\n",
        "# --------------\n",
        "# Пример вывода:\n",
        "#\n",
        "# Первый номер билета: 10\n",
        "# Последний номер билета: 25\n",
        "# 10 12 14 16 18 21 23 25\n"
      ],
      "execution_count": 8,
      "outputs": [
        {
          "output_type": "stream",
          "name": "stdout",
          "text": [
            "Первый номер билета:13\n",
            "Последний номер билета:28\n",
            "14 16 18 21 23 25 27 None\n"
          ]
        }
      ]
    },
    {
      "cell_type": "markdown",
      "metadata": {
        "id": "AcXW4GhePrrd"
      },
      "source": [
        "5.2.4\n",
        "\n",
        "Дата характеризуется тремя натуральными числами: день, месяц и год. Учитывая, что год может быть високосным, реализуйте две функции, которые определяют вчерашнюю и завтрашнюю дату."
      ]
    },
    {
      "cell_type": "code",
      "metadata": {
        "id": "p9ctYqHFPuj_",
        "colab": {
          "base_uri": "https://localhost:8080/"
        },
        "outputId": "2c61f074-e88b-48b0-c96d-1f370180e908"
      },
      "source": [
        "# Задание task_05_02_04.\n",
        "#\n",
        "# Выполнил: Морозова\n",
        "# Группа: !!!\n",
        "# E-mail: !!!\n",
        "\n",
        "def is_leap(year):\n",
        "    if year % 4 == 0:\n",
        "      return True\n",
        "    else:\n",
        "      return False\n",
        "\n",
        "def days(month, year):\n",
        "  num_days=[31, 28, 31, 30, 31, 30, 31, 31, 30, 31, 30, 31]\n",
        "  if is_leap(year) == True:\n",
        "    num_days[1] = 29    \n",
        "  return num_days[month - 1]\n",
        "\n",
        "def previous_date(day, month, year):\n",
        "    if day == 1 and month == 1:\n",
        "      month == 12\n",
        "      year -= 1\n",
        "      day = days(month, year)\n",
        "    elif day == 1:\n",
        "      day = days(month - 1, year)\n",
        "      month -= 1\n",
        "    else:\n",
        "      day -= 1\n",
        "    return day, month, year\n",
        "\n",
        "\n",
        "day, month, year = (input('День, месяц, год через пробел: ')).split(\" \")\n",
        "day = int(day)\n",
        "month = int(month)\n",
        "year = int(year)\n",
        "print(previous_date(day, month, year ))\n"
      ],
      "execution_count": null,
      "outputs": [
        {
          "output_type": "stream",
          "name": "stdout",
          "text": [
            "День, месяц, год через пробел: 23 06 2018\n",
            "(22, 6, 2018)\n"
          ]
        }
      ]
    },
    {
      "cell_type": "code",
      "source": [
        ""
      ],
      "metadata": {
        "id": "J0PmK4lrZkzw"
      },
      "execution_count": null,
      "outputs": []
    },
    {
      "cell_type": "markdown",
      "source": [
        "№ 5.2.7\n",
        "\n",
        "Даны  предложений. Определите, сколько из них содержат хотя бы одну цифру."
      ],
      "metadata": {
        "id": "4tRFeqttZtzq"
      }
    },
    {
      "cell_type": "code",
      "source": [
        "# Задание task_05_02_07.\n",
        "#\n",
        "# Выполнил: Морозова\n",
        "# Группа: !!!\n",
        "# E-mail: !!!\n",
        "\n",
        "\n",
        "def has_digits(sentence):\n",
        "    fl = False\n",
        "    for i in sentence:\n",
        "      if i.isdigit():\n",
        "        fl = True\n",
        "        return fl\n",
        "\n",
        "\n",
        "def sentences_with_digits_count(sentences):\n",
        "    \"\"\"!!!.\"\"\"\n",
        "    count = 0\n",
        "    for sentence in sentences:\n",
        "      if has_digits(sentence):\n",
        "        count += 1\n",
        "    return(print('Предложений с цифрой =',count))\n",
        "\n",
        "\n",
        "n = int(input('Введите количество предложений: '))\n",
        "sentences = []\n",
        "for i in range(1, n+1):\n",
        "  sentences.append(input('Введите предложение № {}: '.format(i)))\n",
        "sentences_with_digits_count(sentences)\n",
        "# Удалите комментарий и допишите код\n",
        "\n",
        "# --------------\n",
        "# Пример вывода:\n",
        "#\n",
        "# Введите количество предложений: 3\n",
        "# Введите предложение №1:\n",
        "# Просто текст\n",
        "# Введите предложение №2:\n",
        "# Текст с цифрой 1 (один)\n",
        "# Введите предложение №3:\n",
        "# Тут нет цифры\n",
        "# Предложений с цифрой = 1\n"
      ],
      "metadata": {
        "colab": {
          "base_uri": "https://localhost:8080/"
        },
        "id": "1XlSkhFHaONp",
        "outputId": "0d536cf3-6e88-40d0-f9fe-605cacc927ea"
      },
      "execution_count": null,
      "outputs": [
        {
          "output_type": "stream",
          "name": "stdout",
          "text": [
            "Введите количество предложений: 4\n",
            "Введите предложение № 1: ррааиов оаоро\n",
            "Введите предложение № 2: орорпгыуг ш6ови8во\n",
            "Введите предложение № 3: орлгсгвыг рсвг79\n",
            "Введите предложение № 4: овра врсгыварг\n",
            "Предложений с цифрой = 2\n"
          ]
        }
      ]
    },
    {
      "cell_type": "markdown",
      "source": [
        "№ 5.2.8\n",
        "\n",
        "Дана строка  и символ . Реализуйте функцию, рисующую рамку из символа  вокруг данной строки, например:"
      ],
      "metadata": {
        "id": "tO8KrX71bLTh"
      }
    },
    {
      "cell_type": "code",
      "source": [
        "# Задание task_05_02_08.\n",
        "#\n",
        "# Выполнил: Морозова\n",
        "# Группа: !!!\n",
        "# E-mail: !!!\n",
        "\n",
        "\n",
        "def print_with_border(string, char):\n",
        "    \"\"\"!!!\"\"\"\n",
        "    print(char*(len(string) + 2))\n",
        "    print(char + string + char)\n",
        "    print(char*(len(string) + 2))\n",
        "\n",
        "\n",
        "s = input(\"Введите строку:\")\n",
        "k = input(\"Введите символ:\")\n",
        "print_with_border(s, k)\n",
        "# Удалите комментарий и допишите код\n",
        "\n",
        "# --------------\n",
        "# Пример вывода:\n",
        "#\n",
        "# Введите строку: Просто текст\n",
        "# Введите символ: +\n",
        "# ++++++++++++++\n",
        "# +Просто текст+\n",
        "# ++++++++++++++\n"
      ],
      "metadata": {
        "colab": {
          "base_uri": "https://localhost:8080/"
        },
        "id": "ezJdq7pSbe5T",
        "outputId": "16678ce5-6add-43f7-a42f-3a88890d3dec"
      },
      "execution_count": null,
      "outputs": [
        {
          "output_type": "stream",
          "name": "stdout",
          "text": [
            "Введите строку:Солнышко\n",
            "Введите символ:*****\n",
            "**************************************************\n",
            "*****Солнышко*****\n",
            "**************************************************\n"
          ]
        }
      ]
    },
    {
      "cell_type": "markdown",
      "source": [
        "№ 5.2.10\n",
        "\n",
        "Для введенного предложения выведите статистику символ=количество. Регистр букв не учитывается."
      ],
      "metadata": {
        "id": "7PkAtCA9cpog"
      }
    },
    {
      "cell_type": "code",
      "source": [
        "# Задание task_05_02_10.\n",
        "#\n",
        "# Выполнил: Морозова\n",
        "# Группа: !!!\n",
        "# E-mail: !!!\n",
        "\n",
        "\n",
        "def sentence_stats(sentence):\n",
        "    stat = {}\n",
        "    for let in sentence:\n",
        "      let = let.lower()\n",
        "      if let not in stat.keys():\n",
        "        stat[let] = 1\n",
        "      else:\n",
        "        stat[let] += 1\n",
        "    return stat\n",
        "\n",
        "    \n",
        "s = input('Введите предложение:')\n",
        "sentence_stats(s)\n",
        "\n",
        "# --------------\n",
        "# Пример вывода:\n",
        "#\n",
        "# Введите предложение: мама МЫла РамУ\n",
        "# {'л': 1, 'р': 1, 'у': 1, 'м': 4, 'а': 4, 'ы': 1, ' ': 2}\n"
      ],
      "metadata": {
        "colab": {
          "base_uri": "https://localhost:8080/"
        },
        "id": "_1gjhILLdLYF",
        "outputId": "1109f47c-cdd4-49ed-96b3-a03beb5d6535"
      },
      "execution_count": null,
      "outputs": [
        {
          "name": "stdout",
          "output_type": "stream",
          "text": [
            "Введите предложение:рама мыла маму\n"
          ]
        },
        {
          "output_type": "execute_result",
          "data": {
            "text/plain": [
              "{' ': 2, 'а': 4, 'л': 1, 'м': 4, 'р': 1, 'у': 1, 'ы': 1}"
            ]
          },
          "metadata": {},
          "execution_count": 4
        }
      ]
    },
    {
      "cell_type": "markdown",
      "source": [
        "№ 5.2.14\n",
        "\n",
        "Напишите функцию, которая принимает неограниченное количество числовых аргументов и возвращает кортеж из двух списков:\n",
        "\n",
        "отрицательных значений (отсортирован по убыванию);\n",
        "\n",
        "неотрицательных значений (отсортирован по возрастанию)."
      ],
      "metadata": {
        "id": "TJyEKPVEelrs"
      }
    },
    {
      "cell_type": "code",
      "source": [
        "# Задание task_05_02_14.\n",
        "#\n",
        "# Выполнил: Морозова\n",
        "# Группа: !!!\n",
        "# E-mail: !!!\n",
        "\n",
        "\n",
        "def split_numbers(*numbers):\n",
        "    listm = []\n",
        "    listp = []\n",
        "    for el in numbers:\n",
        "      if el < 0:\n",
        "        listm.append(el)\n",
        "      else:\n",
        "        listp.append(el)\n",
        "    listp.sort()\n",
        "    listm.sort(reverse = True)\n",
        "    return listm, listp\n",
        "\n",
        "\n",
        "print(split_numbers(1, 4, -5, 0, -33))\n",
        "\n",
        "# --------------\n",
        "# Пример вывода:\n",
        "#\n",
        "# ([-5, -33], [0, 1, 4])\n"
      ],
      "metadata": {
        "colab": {
          "base_uri": "https://localhost:8080/"
        },
        "id": "kpORIfsVeuER",
        "outputId": "3bcccea2-3f2b-4237-d5e3-090bd70aa395"
      },
      "execution_count": null,
      "outputs": [
        {
          "output_type": "stream",
          "name": "stdout",
          "text": [
            "([-5, -33], [0, 1, 4])\n"
          ]
        }
      ]
    },
    {
      "cell_type": "markdown",
      "source": [
        "№ 5.2.16\n",
        "\n",
        "Составьте две функции для возведения числа в степень: один из вариантов реализуйте в рекурсивном стиле."
      ],
      "metadata": {
        "id": "Qk_HGDqxgWP5"
      }
    },
    {
      "cell_type": "code",
      "source": [
        "# Выполнил: Морозова\n",
        "# Группа: !!!\n",
        "# E-mail: !!!\n",
        "\n",
        "\n",
        "def pow1(value, power):\n",
        "    \"\"\"Вернуть 'value' в степени 'power'.\n",
        "\n",
        "    Параметры:\n",
        "        - !!!.\n",
        "\n",
        "    Результат:\n",
        "        !!!.\"\"\"\n",
        "    return value**power\n",
        "\n",
        "\n",
        "def pow2(value, power):\n",
        "    \"\"\"Вернуть 'value' в степени 'power'. Рекурсивный алгоритм.\n",
        "\n",
        "    Параметры:\n",
        "        - !!!.\n",
        "\n",
        "    Результат:\n",
        "        !!!.\"\"\"\n",
        "    if power > 0:\n",
        "        return value * pow2(value, power - 1)\n",
        "    else:\n",
        "        return 1   \n",
        "\n",
        "\n",
        "print(pow1(5, 3))\n",
        "print(pow2(5, 3))\n",
        "\n",
        "# --------------\n",
        "# Пример вывода:\n",
        "#\n",
        "# 125\n",
        "# 125\n"
      ],
      "metadata": {
        "colab": {
          "base_uri": "https://localhost:8080/"
        },
        "id": "NgASfKqBgXIv",
        "outputId": "a6bb481e-9df5-4914-edd1-597a86a26ca5"
      },
      "execution_count": null,
      "outputs": [
        {
          "output_type": "stream",
          "name": "stdout",
          "text": [
            "125\n",
            "125\n"
          ]
        }
      ]
    },
    {
      "cell_type": "markdown",
      "source": [
        "№ 5.2.17\n",
        "\n",
        "Дано натуральное число. Напишите рекурсивные функции для определения:\n",
        "\n",
        "суммы цифр числа;\n",
        "\n",
        "количества цифр в числе."
      ],
      "metadata": {
        "id": "skfMw-oShIXt"
      }
    },
    {
      "cell_type": "code",
      "source": [
        "def digits_sum(value):\n",
        "    \"\"\"Вернуть сумму цифр числа 'value'. Рекурсивная реализация.\n",
        "\n",
        "    Параметры:\n",
        "        - !!!.\n",
        "\n",
        "    Результат:\n",
        "        !!!.\n",
        "    \"\"\"\n",
        "    if value > 1:\n",
        "      return value % 10 + digits_sum(value // 10)\n",
        "    else:\n",
        "      return 1 \n",
        "\n",
        "\n",
        "def digits_count(value):\n",
        "    \"\"\"Вернуть количество цифр числа 'value'. Рекурсивная реализация.\n",
        "\n",
        "    Параметры:\n",
        "        - !!!.\n",
        "\n",
        "    Результат:\n",
        "        !!!.\n",
        "    \"\"\"\n",
        "    c = 0\n",
        "    if value > 0:\n",
        "      return 1 + digits_count(value//10)\n",
        "    else:\n",
        "      return 0\n",
        "\n",
        "\n",
        "print(digits_sum(12345))\n",
        "print(digits_count(12345))\n",
        "\n",
        "# --------------\n",
        "# Пример вывода:\n",
        "#\n",
        "# 15\n",
        "# 5"
      ],
      "metadata": {
        "colab": {
          "base_uri": "https://localhost:8080/"
        },
        "id": "j2UfiQ_oWDhD",
        "outputId": "8b185988-8e7b-4718-d5b6-1bad65f8befa"
      },
      "execution_count": null,
      "outputs": [
        {
          "output_type": "stream",
          "name": "stdout",
          "text": [
            "15\n",
            "5\n"
          ]
        }
      ]
    }
  ]
}