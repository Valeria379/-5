{
  "nbformat": 4,
  "nbformat_minor": 0,
  "metadata": {
    "colab": {
      "name": "Лабораторная работа №7",
      "provenance": [],
      "authorship_tag": "ABX9TyMZAhsK0sYrmUh43vv5Mpca",
      "include_colab_link": true
    },
    "kernelspec": {
      "name": "python3",
      "display_name": "Python 3"
    },
    "language_info": {
      "name": "python"
    }
  },
  "cells": [
    {
      "cell_type": "markdown",
      "metadata": {
        "id": "view-in-github",
        "colab_type": "text"
      },
      "source": [
        "<a href=\"https://colab.research.google.com/github/Valeria379/-5/blob/master/%D0%9B%D0%B0%D0%B1%D0%BE%D1%80%D0%B0%D1%82%D0%BE%D1%80%D0%BD%D0%B0%D1%8F_%D1%80%D0%B0%D0%B1%D0%BE%D1%82%D0%B0_%E2%84%967.ipynb\" target=\"_parent\"><img src=\"https://colab.research.google.com/assets/colab-badge.svg\" alt=\"Open In Colab\"/></a>"
      ]
    },
    {
      "cell_type": "markdown",
      "source": [
        "7.2.2"
      ],
      "metadata": {
        "id": "OTLMSudgu-Is"
      }
    },
    {
      "cell_type": "code",
      "source": [
        "# Задание task_07_02_02.\n",
        "#\n",
        "# Выполнил: Морозова Валерия\n",
        "# Группа: АДЭУ-211\n",
        "# E-mail: !!!\n",
        "\n",
        "\n",
        "\"\"\"\n",
        "Ошибки (номера строк через пробел, данная строка - №2): !!!\n",
        "\"\"\"\n",
        "\n",
        "\n",
        "def primes(a, b):\n",
        "    \"\"\"Вернуть список простых чисел на отрезке от 'a' до 'b'.\"\"\"\n",
        "    res = []\n",
        "    c = 0  # чсило делителей\n",
        "    for i in range(a, b + 1): # Чтобы число b включалось в цикл, то нужно прибавить +1\n",
        "        for j in range(i + 1): # Чтобы все числа i на промежутке от a до b были задейстованы, то надо прибавить +1\n",
        "            if i % (j + 1) == 0:\n",
        "                c += 1\n",
        "        if c == 2: # неверный уровень, необходимо, чтобы список попадали только числа с 2 делителями, а не с более\n",
        "            res.append(i)\n",
        "        else: # Необходимо добавить строчку else, чтобы обнулить чсило делителей(c)\n",
        "            c = 0\n",
        "\n",
        "    return res\n",
        "\n",
        "primes(10, 21)"
      ],
      "metadata": {
        "colab": {
          "base_uri": "https://localhost:8080/"
        },
        "id": "sGEk8j-zvCli",
        "outputId": "ccb4129a-550c-4697-dbdb-bafba70a6129"
      },
      "execution_count": 18,
      "outputs": [
        {
          "output_type": "execute_result",
          "data": {
            "text/plain": [
              "[11, 13, 17, 19]"
            ]
          },
          "metadata": {},
          "execution_count": 18
        }
      ]
    },
    {
      "cell_type": "markdown",
      "source": [
        "7.2.4"
      ],
      "metadata": {
        "id": "Xb8uYPSZwH9g"
      }
    },
    {
      "cell_type": "code",
      "source": [
        "# Задание task_07_02_04.\n",
        "#\n",
        "# Выполнил: Морозова\n",
        "# Группа: !!!\n",
        "# E-mail: !!!\n",
        "\n",
        "\n",
        "\"\"\"\n",
        "Ошибки (номера строк через пробел, данная строка - №2): !!!\n",
        "\"\"\"\n",
        "\n",
        "\n",
        "def min_pair(nums):\n",
        "    \"\"\"Вернуть минимальную сумму соседних 2-х чисел в списке 'nums'.\"\"\"\n",
        "    min_1 = nums[0] + nums[1] # заменить * на +, так как нам нужна сумма, а не произведение\n",
        "    len_nums = len(nums) # Добавляем переменную, чтобы получислось конкретное число (длинна списка)\n",
        "    for i in range(2, len_nums - 1): # Нужно вычесть единицу, чтобы цик не выходил за пределы списка\n",
        "        min_1 = min(nums[i] + nums[i + 1], min_1) # название переменных не может быть min\n",
        "\n",
        "    return min_1\n",
        "\n",
        "import random\n",
        "#\n",
        "random.seed(50)\n",
        "#\n",
        "N_MAX = 10\n",
        "RANGE_MIN = 1\n",
        "RANGE_MAX = 100\n",
        "nums = random.sample(range(RANGE_MIN, RANGE_MAX), N_MAX)\n",
        "#\n",
        "print(nums)\n",
        "#\n",
        "print(min_pair(nums))\n"
      ],
      "metadata": {
        "colab": {
          "base_uri": "https://localhost:8080/"
        },
        "id": "j8GqqvUOwKKv",
        "outputId": "8aa65201-3bc3-4610-8ea7-0073a90833b7"
      },
      "execution_count": 7,
      "outputs": [
        {
          "output_type": "stream",
          "name": "stdout",
          "text": [
            "[64, 35, 47, 82, 32, 89, 61, 99, 43, 11]\n",
            "54\n"
          ]
        }
      ]
    },
    {
      "cell_type": "markdown",
      "source": [
        "7.2.5"
      ],
      "metadata": {
        "id": "5_ON5ad8wiUZ"
      }
    },
    {
      "cell_type": "code",
      "source": [
        "# Задание task_07_02_05.\n",
        "#\n",
        "# Выполнил: Морозова\n",
        "# Группа: !!!\n",
        "# E-mail: !!!\n",
        "\n",
        "\n",
        "\"\"\"\n",
        "Ошибки (номера строк через пробел, данная строка - №2): !!!\n",
        "\"\"\"\n",
        "\n",
        "\n",
        "def non_negatives(nums):\n",
        "    \"\"\"Удалить из списка чисел 'nums' отрицательные элементы и вернуть\n",
        "    измененный список.\"\"\"\n",
        "    for i in range(len(nums)):\n",
        "        if nums[i] < 0:\n",
        "            nums[i] = '-' # было del nums[i]. Из-за удаления отрицательных чисел длинна списка меняется и не пересчитывается, поэтому м заменяем отрицательные значения на '-'\n",
        "    new_num = []\n",
        "    for i in range(len(nums)):# Все отрицательные числа стали '-', мы добавляем в новый список числа без '-' и получаются только положительные\n",
        "        if nums[i] != '-':\n",
        "            new_num.append(nums[i])\n",
        "    return new_num\n",
        "\n",
        "import random\n",
        "#\n",
        "n = 10\n",
        "nums = [round(random.uniform(-10, 10), 2) for i in range(n)]\n",
        "print(nums)\n",
        "non_negatives(nums)\n"
      ],
      "metadata": {
        "colab": {
          "base_uri": "https://localhost:8080/"
        },
        "id": "dQwz-TxbwmYF",
        "outputId": "f376db3d-087d-479b-f13e-8f1ef8904a63"
      },
      "execution_count": 8,
      "outputs": [
        {
          "output_type": "stream",
          "name": "stdout",
          "text": [
            "[0.77, -5.51, 1.13, 8.61, -3.06, -8.03, -3.05, -5.55, -8.63, 7.29]\n"
          ]
        },
        {
          "output_type": "execute_result",
          "data": {
            "text/plain": [
              "[0.77, 1.13, 8.61, 7.29]"
            ]
          },
          "metadata": {},
          "execution_count": 8
        }
      ]
    },
    {
      "cell_type": "markdown",
      "source": [
        "7.2.6"
      ],
      "metadata": {
        "id": "db3lM8Cd6vRn"
      }
    },
    {
      "cell_type": "code",
      "source": [
        "# Задание task_07_02_06.\n",
        "#\n",
        "# Выполнил: Морозова\n",
        "# Группа: !!!\n",
        "# E-mail: !!!\n",
        "\n",
        "\n",
        "\"\"\"\n",
        "Ошибки (номера строк через пробел, данная строка - №2): !!!\n",
        "\"\"\"\n",
        "\n",
        "\n",
        "def unemployment_rate(unemployed, employed):\n",
        "    \"\"\"Вернуть уровень безработицы (УБ) в долях 1.\n",
        "\n",
        "       Расчет по формуле: УБ = Безработные / (Занятые + Безработные).\n",
        "    \"\"\"\n",
        "    if unemployed > 0 and employed > 0:\n",
        "        return unemployed / (unemployed + employed)\n",
        "    else:\n",
        "        raise ValueError('Невозможно определить уровень безработицы при введеных значениях')\n",
        "\n",
        "try:\n",
        "    unemployed = int(input(\"Введите кол-во безработных (чел.): \"))\n",
        "    employed = int(input(\"Введите кол-во занятых (чел.): \"))\n",
        "    rate = unemployment_rate(unemployed, employed)\n",
        "    print(\"Уровень безработицы = {:.1%}\".format(rate))\n",
        "\n",
        "except ValueError as err:\n",
        "    print(\"Ошибка:\", err)\n"
      ],
      "metadata": {
        "colab": {
          "base_uri": "https://localhost:8080/"
        },
        "id": "lhEaGseh60Da",
        "outputId": "84043a74-d4a8-4711-e3d2-52f017dd1d22"
      },
      "execution_count": 9,
      "outputs": [
        {
          "output_type": "stream",
          "name": "stdout",
          "text": [
            "Введите кол-во безработных (чел.): 625\n",
            "Введите кол-во занятых (чел.): 14976\n",
            "Уровень безработицы = 4.0%\n"
          ]
        }
      ]
    },
    {
      "cell_type": "markdown",
      "source": [
        "7.2.7"
      ],
      "metadata": {
        "id": "Kx2gmsVI-tzk"
      }
    },
    {
      "cell_type": "code",
      "source": [
        "# Задание task_07_02_07.\n",
        "#\n",
        "# Выполнил: Морозова\n",
        "# Группа: !!!\n",
        "# E-mail: !!!\n",
        "\n",
        "\n",
        "\"\"\"\n",
        "Ошибки (номера строк через пробел, данная строка - №2): !!!\n",
        "\"\"\"\n",
        "\n",
        "\n",
        "def power(x, y = 2):\n",
        "    \"\"\"Вернуть x^y.\"\"\"\n",
        "    if y == 0:\n",
        "        return 1\n",
        "    elif x == 0:\n",
        "        raise ValueError('Невозможно определить число при введенных значениях')\n",
        "    else:\n",
        "        return x * power(x, y - 1)\n",
        "\n",
        "try:\n",
        "    x = int(input(\"x= \"))\n",
        "    y = int(input(\"y= \"))\n",
        "    print(power(x, y))\n",
        "\n",
        "except ValueError as err:\n",
        "    print(\"Ошибка:\", err)"
      ],
      "metadata": {
        "colab": {
          "base_uri": "https://localhost:8080/"
        },
        "id": "SHSyxuFy-yRo",
        "outputId": "1b5477a7-c9f2-45cf-d973-03ff9607a0e3"
      },
      "execution_count": 11,
      "outputs": [
        {
          "output_type": "stream",
          "name": "stdout",
          "text": [
            "x= 0\n",
            "y= 23\n",
            "Ошибка: Невозможно определить число при введенных значениях\n"
          ]
        }
      ]
    },
    {
      "cell_type": "markdown",
      "source": [
        "7.2.8"
      ],
      "metadata": {
        "id": "QYnonzPN_eml"
      }
    },
    {
      "cell_type": "code",
      "source": [
        "# Задание task_07_02_08.\n",
        "#\n",
        "# Выполнил: Морозова\n",
        "# Группа: !!!\n",
        "# E-mail: !!!\n",
        "\n",
        "\n",
        "\"\"\"\n",
        "Ошибки (номера строк через пробел, данная строка - №2): !!!\n",
        "\"\"\"\n",
        "\n",
        "\n",
        "# Дан список ФИО. Найти наиболее часто встречаемое отчество.\n",
        "# Если отчества нет, человек не учитывается в подсчете.\n",
        "\n",
        "n = int(input(\"Введите кол-во человек: \"))\n",
        "\n",
        "middle_names = {}\n",
        "for i in range(n):\n",
        "    fio = input(\"Введите ФИО через пробел: \").split()\n",
        "    try:\n",
        "        middle_name = fio[2]\n",
        "    except IndexError:\n",
        "        n -= 1\n",
        "    middle_names[middle_name] = middle_names.get(middle_name, 0) + 1\n",
        "\n",
        "print(sorted(middle_names.items(), key=lambda item: item[1])[-1][0])\n",
        "print(\"В расчете участвовало человек:\", n)\n"
      ],
      "metadata": {
        "colab": {
          "base_uri": "https://localhost:8080/"
        },
        "id": "r1PfbBf2_pj0",
        "outputId": "1e76fe75-f217-446b-e256-865e502120e2"
      },
      "execution_count": 13,
      "outputs": [
        {
          "output_type": "stream",
          "name": "stdout",
          "text": [
            "Введите кол-во человек: 4\n",
            "Введите ФИО через пробел: Морозова Валерия Андреевна\n",
            "Введите ФИО через пробел: Прокофьева Ирина\n",
            "Введите ФИО через пробел: Зарайская Екатерина Дмитриевна\n",
            "Введите ФИО через пробел: Невзорова Ксения\n",
            "Дмитриевна\n",
            "В расчете участвовало человек: 2\n"
          ]
        }
      ]
    },
    {
      "cell_type": "markdown",
      "source": [
        "7.2.9"
      ],
      "metadata": {
        "id": "VellKoaHA7RX"
      }
    },
    {
      "cell_type": "code",
      "source": [
        "# Задание task_07_02_09.\n",
        "#\n",
        "# Выполнил: Морозова\n",
        "# Группа: !!!\n",
        "# E-mail: !!!\n",
        "\n",
        "\n",
        "\"\"\"\n",
        "Ошибки (номера строк через пробел, данная строка - №2): !!!\n",
        "\"\"\"\n",
        "\n",
        "\n",
        "def f(x):\n",
        "    \"\"\"Вернуть значение функции.\n",
        "\n",
        "    Функция не обрабатывает исключения.\n",
        "    \"\"\"\n",
        "    try:\n",
        "        return x**2 / (x + 2) - 3\n",
        "    except ZeroDivisionError:\n",
        "        return '-'\n",
        "\n",
        "\n",
        "k = int(input(\"Введите границу интервала [-k; k]: \"))\n",
        "h = float(input(\"Введите шаг табуляции: \"))\n",
        "\n",
        "x = -k\n",
        "print(\"{:>10} {:>10}\".format(\"x\", \"f(x)\"))\n",
        "while x <= k:\n",
        "    try:\n",
        "        print(\"{:10.2f} {:10.2f}\".format(x, f(x)))\n",
        "    except ValueError:\n",
        "        pass\n",
        "\n",
        "    x += h\n",
        "\n",
        "\n",
        "\n",
        "\n",
        "\n",
        "\n",
        " \n",
        "# --------------\n",
        "# Пример вывода:\n",
        "#\n",
        "# Введите границу интервала [-k; k]: 5\n",
        "# Введите шаг табуляции: 0.5\n",
        "#          x       f(x)\n",
        "#      -5.00     -11.33\n",
        "#      -4.50     -11.10\n",
        "#      -4.00     -11.00\n",
        "#      -3.50     -11.17\n",
        "#      -3.00     -12.00\n",
        "#      -2.50     -15.50\n",
        "#      -2.00          -\n",
        "#      -1.50       1.50\n",
        "#      -1.00      -2.00\n",
        "#      -0.50      -2.83\n",
        "#       0.00      -3.00\n",
        "#       0.50      -2.90\n",
        "#       1.00      -2.67\n",
        "#       1.50      -2.36\n",
        "#       2.00      -2.00\n",
        "#       2.50      -1.61\n",
        "#       3.00      -1.20\n",
        "#       3.50      -0.77\n",
        "#       4.00      -0.33\n",
        "#       4.50       0.12\n",
        "#       5.00       0.57\n"
      ],
      "metadata": {
        "colab": {
          "base_uri": "https://localhost:8080/"
        },
        "id": "HKhZ1L3BA-gu",
        "outputId": "02e04346-9666-481a-a0c9-231400ac0872"
      },
      "execution_count": 15,
      "outputs": [
        {
          "output_type": "stream",
          "name": "stdout",
          "text": [
            "Введите границу интервала [-k; k]: 6\n",
            "Введите шаг табуляции: 0.6\n",
            "         x       f(x)\n",
            "     -6.00     -12.00\n",
            "     -5.40     -11.58\n",
            "     -4.80     -11.23\n",
            "     -4.20     -11.02\n",
            "     -3.60     -11.10\n",
            "     -3.00     -12.00\n",
            "     -2.40     -17.40\n",
            "     -1.80      13.20\n",
            "     -1.20      -1.20\n",
            "     -0.60      -2.74\n",
            "     -0.00      -3.00\n",
            "      0.60      -2.86\n",
            "      1.20      -2.55\n",
            "      1.80      -2.15\n",
            "      2.40      -1.69\n",
            "      3.00      -1.20\n",
            "      3.60      -0.69\n",
            "      4.20      -0.15\n",
            "      4.80       0.39\n",
            "      5.40       0.94\n",
            "      6.00       1.50\n"
          ]
        }
      ]
    }
  ]
}