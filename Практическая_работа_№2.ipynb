{
  "nbformat": 4,
  "nbformat_minor": 0,
  "metadata": {
    "colab": {
      "name": "Практическая работа №2",
      "provenance": [],
      "authorship_tag": "ABX9TyNIKAVX5ZHLz1FQhqvdB6rk",
      "include_colab_link": true
    },
    "kernelspec": {
      "name": "python3",
      "display_name": "Python 3"
    },
    "language_info": {
      "name": "python"
    }
  },
  "cells": [
    {
      "cell_type": "markdown",
      "metadata": {
        "id": "view-in-github",
        "colab_type": "text"
      },
      "source": [
        "<a href=\"https://colab.research.google.com/github/Valeria379/-5/blob/master/%D0%9F%D1%80%D0%B0%D0%BA%D1%82%D0%B8%D1%87%D0%B5%D1%81%D0%BA%D0%B0%D1%8F_%D1%80%D0%B0%D0%B1%D0%BE%D1%82%D0%B0_%E2%84%962.ipynb\" target=\"_parent\"><img src=\"https://colab.research.google.com/assets/colab-badge.svg\" alt=\"Open In Colab\"/></a>"
      ]
    },
    {
      "cell_type": "code",
      "metadata": {
        "colab": {
          "base_uri": "https://localhost:8080/"
        },
        "id": "zrLYgZSHraQl",
        "outputId": "bc157a6a-a709-4a7d-8de4-57c197af6bb7"
      },
      "source": [
        "class Rectangle:\n",
        "    def __init__(self, w = 0.5, h = 1):\n",
        "        self.width = w\n",
        "        self.height = h\n",
        "    def square(self):\n",
        "        return self.width * self.height\n",
        "\n",
        "rec1 = Rectangle(5,2)\n",
        "rec2 = Rectangle()\n",
        "rec3 = Rectangle(3)\n",
        "rec4 = Rectangle(h = 4)\n",
        "print(rec1.square())\n",
        "print(rec2.square())\n",
        "print(rec3.square())\n",
        "print(rec4.square())"
      ],
      "execution_count": null,
      "outputs": [
        {
          "output_type": "stream",
          "name": "stdout",
          "text": [
            "10\n",
            "0.5\n",
            "3\n",
            "2.0\n"
          ]
        }
      ]
    },
    {
      "cell_type": "code",
      "metadata": {
        "colab": {
          "base_uri": "https://localhost:8080/",
          "height": 139
        },
        "id": "LQyLA8779OaO",
        "outputId": "3c1231c0-a5af-424f-ad0e-05db74d41908"
      },
      "source": [
        "class Person:\n",
        "    def __init__(self, n, s, q = 1):\n",
        "        self.name = n \n",
        "        self.surname = s \n",
        "        self.skill = q \n",
        "    def __del__(self):\n",
        "        print(\"До свидания, мистер\", self.name, self.surname)\n",
        "    def info(self):\n",
        "        return \"{0} {1}, {2}\".format(self.name, self.surname, self.skill)\n",
        "worker = Person(\"Иван\", \"Котов\",3)\n",
        "helper = Person(\"Денис\", \"Малышев\",1)\n",
        "maker = Person(\"Олег\", \"Рисов\",2)\n",
        "print(worker.info())\n",
        "print(helper.info())\n",
        "print(maker.info())\n",
        "del helper\n",
        "print(\"Конец программы\")\n",
        "input()\n"
      ],
      "execution_count": null,
      "outputs": [
        {
          "name": "stdout",
          "output_type": "stream",
          "text": [
            "Иван Котов, 3\n",
            "Денис Малышев, 1\n",
            "Олег Рисов, 2\n",
            "До свидания, мистер Денис Малышев\n",
            "Конец программы\n",
            "\n"
          ]
        },
        {
          "output_type": "execute_result",
          "data": {
            "application/vnd.google.colaboratory.intrinsic+json": {
              "type": "string"
            },
            "text/plain": [
              "''"
            ]
          },
          "metadata": {},
          "execution_count": 3
        }
      ]
    },
    {
      "cell_type": "code",
      "metadata": {
        "colab": {
          "base_uri": "https://localhost:8080/"
        },
        "id": "ZVb81aXFAjUm",
        "outputId": "22096944-09fe-4935-eb58-2ced72042309"
      },
      "source": [
        "class Student:\n",
        "    def __init__(self, name, surname, university, gender, grade, group = \"ADEU-211\"):\n",
        "        self.name = name\n",
        "        self.surname = surname\n",
        "        self.university = university\n",
        "        self.gender = gender\n",
        "        self.grade = grade\n",
        "        self.group = group\n",
        "\n",
        "    def __del__(self):\n",
        "        print(\"Отчислен студент {} {} {}\".format(self.name, self.surname, d[self.grade]))\n",
        "    def display(self):\n",
        "      return (\"{0} {1}, {2}, {3}, {4}, {5}\".format(self.name, self.surname, self.university, self.gender, d[self.grade], self.group))\n",
        "d={2:\"Задолжник\", 4:\"Ударник\", 5:\"Отличник\"}\n",
        "\n",
        "s1 = Student(\"Николай\", \"Соболев\", \"МГПУ\", \"м\", 5)\n",
        "print(s1.display())\n",
        "s2 = Student(\"Григорий\", \"Прокофьев\", \"МГПУ\", \"м\", 2)\n",
        "print(s2.display())\n",
        "s3 = Student(\"Вероника\", \"Измайлова\", \"МГПУ\", \"ж\", 4)\n",
        "print(s3.display())\n",
        "\n",
        "if s1.grade < s2.grade:\n",
        "  del s1\n",
        "elif s1.grade > s2.grade:\n",
        "  del s2\n",
        "else:\n",
        "  print(\"МОЛОДЦЫ!\")"
      ],
      "execution_count": null,
      "outputs": [
        {
          "output_type": "stream",
          "name": "stdout",
          "text": [
            "Николай Соболев, МГПУ, м, Отличник, ADEU-211\n",
            "Григорий Прокофьев, МГПУ, м, Задолжник, ADEU-211\n",
            "Вероника Измайлова, МГПУ, ж, Ударник, ADEU-211\n",
            "Отчислен студент Григорий Прокофьев Задолжник\n"
          ]
        }
      ]
    }
  ]
}