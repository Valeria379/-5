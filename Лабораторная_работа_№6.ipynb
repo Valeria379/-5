{
  "nbformat": 4,
  "nbformat_minor": 0,
  "metadata": {
    "colab": {
      "name": "Лабораторная работа №6",
      "provenance": [],
      "authorship_tag": "ABX9TyN1vl1r4EWpGRleCSLeKS9N",
      "include_colab_link": true
    },
    "kernelspec": {
      "name": "python3",
      "display_name": "Python 3"
    },
    "language_info": {
      "name": "python"
    }
  },
  "cells": [
    {
      "cell_type": "markdown",
      "metadata": {
        "id": "view-in-github",
        "colab_type": "text"
      },
      "source": [
        "<a href=\"https://colab.research.google.com/github/Valeria379/-5/blob/master/%D0%9B%D0%B0%D0%B1%D0%BE%D1%80%D0%B0%D1%82%D0%BE%D1%80%D0%BD%D0%B0%D1%8F_%D1%80%D0%B0%D0%B1%D0%BE%D1%82%D0%B0_%E2%84%966.ipynb\" target=\"_parent\"><img src=\"https://colab.research.google.com/assets/colab-badge.svg\" alt=\"Open In Colab\"/></a>"
      ]
    },
    {
      "cell_type": "markdown",
      "source": [
        "6.2.1"
      ],
      "metadata": {
        "id": "5D1f-NbXj8xj"
      }
    },
    {
      "cell_type": "code",
      "source": [
        "# Задание task_06_02_01.\n",
        "#\n",
        "# Выполнил: Морозова Валерия\n",
        "# Группа: АДЭУ-211\n",
        "# E-mail: !!!\n",
        "\n",
        "\n",
        "def foo(a):\n",
        "    \"\"\"!!!\n",
        "\n",
        "    Сложность: !!!.\n",
        "    \"\"\"\n",
        "    for i in range(len(a), 0, -1): # O(len(a))\n",
        "        for j in range(1, i): # O(N)\n",
        "            if a[j-1] > a[j]: # O(1)\n",
        "                a[j-1], a[j] = a[j], a[j-1] # O(1)\n",
        "    return a\n",
        "\n",
        "\n",
        "a = [1, 2, 3, 4, 2, 1, 3, 4, 3, 5, -2, -2, 2, -2, 65, 2, 2]\n",
        "foo(a)\n",
        "\n",
        "# Алгорит: сортировка чисел по возрастанию\n",
        "# Сложность: O(len(a)) * O(N) * O(1) + O(1)= 2 * N * O(len(a))\n",
        "\n"
      ],
      "metadata": {
        "colab": {
          "base_uri": "https://localhost:8080/"
        },
        "id": "4z8yYM5mkPUH",
        "outputId": "7150aca2-2318-430e-a3bf-22669ea119fe"
      },
      "execution_count": 1,
      "outputs": [
        {
          "output_type": "execute_result",
          "data": {
            "text/plain": [
              "[-2, -2, -2, 1, 1, 2, 2, 2, 2, 2, 3, 3, 3, 4, 4, 5, 65]"
            ]
          },
          "metadata": {},
          "execution_count": 1
        }
      ]
    },
    {
      "cell_type": "markdown",
      "source": [
        "6.2.2"
      ],
      "metadata": {
        "id": "C3VEFxDflWS1"
      }
    },
    {
      "cell_type": "code",
      "source": [
        "# Выполнил: Морозова \n",
        "# Группа: !!!\n",
        "# E-mail: !!!\n",
        "\n",
        "\n",
        "def foo(i):\n",
        "    \"\"\"!!!\n",
        "\n",
        "    Параметры:\n",
        "        - i (int): число.\n",
        "\n",
        "    Сложность: !!!.\n",
        "    \"\"\"\n",
        "    digits = \"0123456789\"\n",
        "    if i == 0: # O(1)\n",
        "        return \"0\"\n",
        "    result = \"\"\n",
        "    while i > 0: # O(N)\n",
        "        result = digits[i%10] + result\n",
        "        i = i // 10\n",
        "    return result\n",
        "\n",
        "i = 7998\n",
        "foo(i)\n",
        "\n",
        "# Алгорит: выводит то же самое число, превращая его из int в str\n",
        "# Сложность: O(N) + O(1) = 1 + O(N)"
      ],
      "metadata": {
        "colab": {
          "base_uri": "https://localhost:8080/",
          "height": 35
        },
        "id": "z6wzQzoFlysu",
        "outputId": "d29264eb-119e-47cf-f0b1-eec02f1548e5"
      },
      "execution_count": 2,
      "outputs": [
        {
          "output_type": "execute_result",
          "data": {
            "application/vnd.google.colaboratory.intrinsic+json": {
              "type": "string"
            },
            "text/plain": [
              "'7998'"
            ]
          },
          "metadata": {},
          "execution_count": 2
        }
      ]
    },
    {
      "cell_type": "markdown",
      "source": [
        "6.2.3"
      ],
      "metadata": {
        "id": "5zf3OhPKmUjy"
      }
    },
    {
      "cell_type": "code",
      "source": [
        "# Задание task_06_02_03.\n",
        "#\n",
        "# Выполнил: Морозова\n",
        "# Группа: !!!\n",
        "# E-mail: !!!\n",
        "\n",
        "\n",
        "def foo(s):\n",
        "    \"\"\"!!!\n",
        "\n",
        "    Параметры:\n",
        "        - s (str): строка.\n",
        "\n",
        "    Сложность: !!!.\n",
        "    \"\"\"\n",
        "    val = 0\n",
        "    for c in s: # O(N)\n",
        "        if c.isdigit(): # O(1)\n",
        "            val += int(c)\n",
        "    return val\n",
        "\n",
        "s = '87'\n",
        "foo(s)\n",
        "\n",
        "# Алгорит: выводит сумму чисел, которые записаны в str\n",
        "# Сложность: O(N) * O(1) = O(N)"
      ],
      "metadata": {
        "colab": {
          "base_uri": "https://localhost:8080/"
        },
        "id": "apFO65mFmWxY",
        "outputId": "9880d6df-6568-4ab1-8377-4a2e203d5be5"
      },
      "execution_count": 3,
      "outputs": [
        {
          "output_type": "execute_result",
          "data": {
            "text/plain": [
              "15"
            ]
          },
          "metadata": {},
          "execution_count": 3
        }
      ]
    },
    {
      "cell_type": "markdown",
      "source": [
        "6.2.4"
      ],
      "metadata": {
        "id": "htNy_sjwmvgC"
      }
    },
    {
      "cell_type": "code",
      "source": [
        "# Задание task_06_02_04.\n",
        "#\n",
        "# Выполнил: Морозова\n",
        "# Группа: !!!\n",
        "# E-mail: !!!\n",
        "\n",
        "\n",
        "def foo(n):\n",
        "    \"\"\"!!!\n",
        "\n",
        "    Параметры:\n",
        "        - n (int): число.\n",
        "\n",
        "    Сложность: !!!.\n",
        "    \"\"\"\n",
        "    res = []\n",
        "    for i in range(1, n + 1): #O(N)\n",
        "        divisors = 0\n",
        "        j = 2\n",
        "        while j < i and divisors == 0: # O(1)\n",
        "            if i % j == 0: # O(1)\n",
        "                divisors += 1\n",
        "            j += 1\n",
        "\n",
        "        if divisors == 0: # O(1)\n",
        "            res.append(i)\n",
        "\n",
        "    return res\n",
        "\n",
        "n = 13\n",
        "foo(n)\n",
        "\n",
        "# Алгорит: выводит все числа простые числа до введенного числа, включая само число, при условии, что оно простое\n",
        "# Сложность: O(N) * (O(1) * O(1) + O(1))= 2 * O(N)"
      ],
      "metadata": {
        "colab": {
          "base_uri": "https://localhost:8080/"
        },
        "id": "ozO8YNFlmygF",
        "outputId": "d800e9ab-7faf-4f2c-cb91-6f4144d1602f"
      },
      "execution_count": 4,
      "outputs": [
        {
          "output_type": "execute_result",
          "data": {
            "text/plain": [
              "[1, 2, 3, 5, 7, 11, 13]"
            ]
          },
          "metadata": {},
          "execution_count": 4
        }
      ]
    },
    {
      "cell_type": "markdown",
      "source": [
        "6.2.5"
      ],
      "metadata": {
        "id": "BWIzeWUgnCCt"
      }
    },
    {
      "cell_type": "code",
      "source": [
        "# Задание task_06_02_05.\n",
        "#\n",
        "# Выполнил: Морозова\n",
        "# Группа: !!!\n",
        "# E-mail: !!!\n",
        "\n",
        "\n",
        "def foo(nums):\n",
        "    \"\"\"!!!\n",
        "\n",
        "    Параметры:\n",
        "        - nums (list): список.\n",
        "\n",
        "    Сложность: !!!.\n",
        "    \"\"\"\n",
        "    for x in nums: # O(1)\n",
        "        if x % 2 == 0: # O(1)\n",
        "            return True\n",
        "    else:\n",
        "        return False\n",
        "\n",
        "nums = [1, 3, 5, 6]\n",
        "foo(nums)\n",
        "\n",
        "# Алгорит: Проверяет на четность или нечетность элементы списка, если хотя бы один из элементов четное число, тогда будет True, если нет четных чисел в списке, тогда False\n",
        "# Сложность: O(1) + O(1) = 2 * O(1)"
      ],
      "metadata": {
        "colab": {
          "base_uri": "https://localhost:8080/"
        },
        "id": "gD7sPR4nnEHS",
        "outputId": "04c62372-7ab5-4ff1-937b-5349a2764293"
      },
      "execution_count": 6,
      "outputs": [
        {
          "output_type": "execute_result",
          "data": {
            "text/plain": [
              "True"
            ]
          },
          "metadata": {},
          "execution_count": 6
        }
      ]
    },
    {
      "cell_type": "markdown",
      "source": [
        "6.2.6"
      ],
      "metadata": {
        "id": "jLMaiKwWnSc0"
      }
    },
    {
      "cell_type": "code",
      "source": [
        "# Задание task_06_02_06.\n",
        "#\n",
        "# Выполнил: Морозова\n",
        "# Группа: !!!\n",
        "# E-mail: !!!\n",
        "\n",
        "\n",
        "def foo(nums):\n",
        "    \"\"\"!!!\n",
        "\n",
        "    Параметры:\n",
        "        - nums (list): список.\n",
        "\n",
        "    Сложность: !!!.\n",
        "    \"\"\"\n",
        "    return (nums[0] + nums[-1] ** 2) # O(1)\n",
        "\n",
        "nums = [2, 2, 7, -9]\n",
        "foo(nums)\n",
        "\n",
        "# Алгорит: возводит последнее число списка в квадрат и прибавляет первое число списка\n",
        "# Сложность: O(1)"
      ],
      "metadata": {
        "colab": {
          "base_uri": "https://localhost:8080/"
        },
        "id": "zY7lXL6RnU8W",
        "outputId": "58cadc77-e784-47ff-cb80-d4de337942fc"
      },
      "execution_count": 7,
      "outputs": [
        {
          "output_type": "execute_result",
          "data": {
            "text/plain": [
              "83"
            ]
          },
          "metadata": {},
          "execution_count": 7
        }
      ]
    }
  ]
}