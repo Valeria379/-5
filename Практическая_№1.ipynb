{
  "nbformat": 4,
  "nbformat_minor": 0,
  "metadata": {
    "colab": {
      "name": "Практическая №1",
      "provenance": [],
      "authorship_tag": "ABX9TyPaOaArYkIvq3zRCHSBf0I/",
      "include_colab_link": true
    },
    "kernelspec": {
      "name": "python3",
      "display_name": "Python 3"
    },
    "language_info": {
      "name": "python"
    }
  },
  "cells": [
    {
      "cell_type": "markdown",
      "metadata": {
        "id": "view-in-github",
        "colab_type": "text"
      },
      "source": [
        "<a href=\"https://colab.research.google.com/github/Valeria379/-5/blob/master/%D0%9F%D1%80%D0%B0%D0%BA%D1%82%D0%B8%D1%87%D0%B5%D1%81%D0%BA%D0%B0%D1%8F_%E2%84%961.ipynb\" target=\"_parent\"><img src=\"https://colab.research.google.com/assets/colab-badge.svg\" alt=\"Open In Colab\"/></a>"
      ]
    },
    {
      "cell_type": "markdown",
      "metadata": {
        "id": "iOl_zaLW8s_U"
      },
      "source": [
        "Задание №1\n"
      ]
    },
    {
      "cell_type": "code",
      "metadata": {
        "colab": {
          "base_uri": "https://localhost:8080/"
        },
        "id": "tE_913xn83ea",
        "outputId": "71a85e5a-3b03-40d7-d349-f67aa454cdeb"
      },
      "source": [
        "class First:\n",
        "      color = \"red\"\n",
        "      def out(self):\n",
        "          print(self.color + \"!\")\n",
        "obj1 = First()\n",
        "obj2 = First()\n",
        "\n",
        "print(obj1.color)\n",
        "print(obj2.color)\n",
        "obj1.out()\n",
        "obj2.out()\n",
        "\n"
      ],
      "execution_count": null,
      "outputs": [
        {
          "output_type": "stream",
          "name": "stdout",
          "text": [
            "red\n",
            "red\n",
            "red!\n",
            "red!\n"
          ]
        }
      ]
    },
    {
      "cell_type": "markdown",
      "metadata": {
        "id": "BZ0In_C6GW6I"
      },
      "source": [
        "Задание №2"
      ]
    },
    {
      "cell_type": "code",
      "metadata": {
        "colab": {
          "base_uri": "https://localhost:8080/"
        },
        "id": "eTaGR01lAPsK",
        "outputId": "96657ccd-58fc-49d4-8597-b381c056aba8"
      },
      "source": [
        "class Second:\n",
        "      color = \"red\"\n",
        "      form = \"circle\"\n",
        "      def changecolor(self,newcolor):\n",
        "          self.color = newcolor\n",
        "      def changeform(self,newform):\n",
        "          self.form = newform\n",
        "obj1 = Second()\n",
        "obj2 = Second()\n",
        "print(obj1.color, obj1.form)\n",
        "print(obj2.color, obj1.form)\n",
        "\n",
        "obj1.changecolor(\"green\")\n",
        "obj1.changecolor(\"blue\")\n",
        "obj1.changeform(\"oval\")\n",
        "\n",
        "print(obj1.color, obj1.form)\n",
        "print(obj2.color, obj2.form)\n",
        "\n"
      ],
      "execution_count": null,
      "outputs": [
        {
          "output_type": "stream",
          "name": "stdout",
          "text": [
            "red circle\n",
            "red circle\n",
            "blue oval\n",
            "red circle\n"
          ]
        }
      ]
    },
    {
      "cell_type": "code",
      "metadata": {
        "id": "2A1kiAN9EodT"
      },
      "source": [
        ""
      ],
      "execution_count": null,
      "outputs": []
    },
    {
      "cell_type": "code",
      "metadata": {
        "colab": {
          "base_uri": "https://localhost:8080/"
        },
        "id": "NTCHozoJEpCe",
        "outputId": "fc65e5aa-f279-4f47-b678-ff907ceb67dc"
      },
      "source": [
        "class Second:\n",
        "      color = \"red\"\n",
        "      form = \"circle\"\n",
        "      name = \"good\"\n",
        "      def changecolor(self,newcolor):\n",
        "          self.color = newcolor\n",
        "      def changeform(self,newform):\n",
        "          self.form = newform\n",
        "      def changename(self,newname):\n",
        "          self.name = newname\n",
        "obj1 = Second()\n",
        "obj2 = Second()\n",
        "obj3 = Second()\n",
        "print(obj1.color, obj1.form)\n",
        "print(obj2.color, obj1.form)\n",
        "print(obj3.color, obj3.form)\n",
        "\n",
        "obj1.changecolor(\"green\")\n",
        "obj2.changecolor(\"blue\")\n",
        "obj2.changeform(\"oval\")\n",
        "obj3.changename(\"toy\")\n",
        "\n",
        "print(obj1.color, obj1.form)\n",
        "print(obj2.color, obj2.form)\n",
        "print(obj2.name)\n"
      ],
      "execution_count": null,
      "outputs": [
        {
          "output_type": "stream",
          "name": "stdout",
          "text": [
            "red circle\n",
            "red circle\n",
            "red circle\n",
            "green circle\n",
            "blue oval\n",
            "good\n"
          ]
        }
      ]
    },
    {
      "cell_type": "markdown",
      "metadata": {
        "id": "5gEdlipOGfDl"
      },
      "source": [
        "Задание №3"
      ]
    },
    {
      "cell_type": "code",
      "metadata": {
        "colab": {
          "base_uri": "https://localhost:8080/"
        },
        "id": "QsF0p4XBMBhc",
        "outputId": "54252c20-5130-43cf-fe86-0062ae57f956"
      },
      "source": [
        "class YesInit:\n",
        "  def __init__(self,one,two):\n",
        "    self.fname=one\n",
        "    self.sname=two\n",
        " \n",
        "obj1=YesInit(\"Petter\", \"Ok\")\n",
        " \n",
        "print(obj1.fname, obj1.sname)\n",
        "\n",
        "class NoInit:\n",
        "  def names(self,one,two):\n",
        "    self.fname=one\n",
        "    self.sname=two \n",
        " \n",
        "obj1=NoInit()\n",
        "obj1.names(\"Petter\", \"Ok\")\n",
        " \n",
        "print(obj1.fname, obj1.sname)"
      ],
      "execution_count": null,
      "outputs": [
        {
          "output_type": "stream",
          "name": "stdout",
          "text": [
            "Petter Ok\n",
            "Petter Ok\n"
          ]
        }
      ]
    },
    {
      "cell_type": "markdown",
      "metadata": {
        "id": "nole7zZ_MGDk"
      },
      "source": [
        "Задание №4"
      ]
    },
    {
      "cell_type": "code",
      "metadata": {
        "colab": {
          "base_uri": "https://localhost:8080/"
        },
        "id": "fi6CLOcLMMFD",
        "outputId": "3f1067b1-1767-424e-a590-aecaf182dffd"
      },
      "source": [
        "class YesInit:\n",
        "  def __init__(self, one=\"noname\", two = \"nonametoo\"):\n",
        "    self.fname=one \n",
        "    self.sname=two\n",
        " \n",
        "obj1=YesInit(\"Sasha\", \"Tu\")\n",
        "obj2=YesInit()\n",
        "obj3=YesInit(\"Spartak\")\n",
        "obj4=YesInit(two=\"Harry\")\n",
        " \n",
        "print(obj1.fname, obj1.sname)\n",
        "print(obj2.fname, obj2.sname)\n",
        "print(obj3.fname, obj3.sname)\n",
        "print(obj4.fname, obj4.sname)"
      ],
      "execution_count": null,
      "outputs": [
        {
          "output_type": "stream",
          "name": "stdout",
          "text": [
            "Sasha Tu\n",
            "noname nonametoo\n",
            "Spartak nonametoo\n",
            "noname Harry\n"
          ]
        }
      ]
    },
    {
      "cell_type": "markdown",
      "metadata": {
        "id": "grUYJyybN-8L"
      },
      "source": [
        "Задание №5"
      ]
    },
    {
      "cell_type": "code",
      "metadata": {
        "id": "zJTQbBTVOEer",
        "colab": {
          "base_uri": "https://localhost:8080/"
        },
        "outputId": "8189e41d-9558-4fe4-ca11-94313a9d893d"
      },
      "source": [
        "class fruits:\n",
        "  def __init__(self,w,n=0):\n",
        "    self.what=w\n",
        "    self.numbers=n\n",
        " \n",
        "f1=fruits(\"apple\",150)\n",
        "f2=fruits(\"pineapple\")\n",
        "  \n",
        "print(f1.what,f1.numbers)\n",
        "print(f2.what,f2.numbers)"
      ],
      "execution_count": null,
      "outputs": [
        {
          "output_type": "stream",
          "name": "stdout",
          "text": [
            "apple 150\n",
            "pineapple 0\n"
          ]
        }
      ]
    },
    {
      "cell_type": "markdown",
      "metadata": {
        "id": "eW4Ri3S30OxX"
      },
      "source": [
        "Задание №6"
      ]
    },
    {
      "cell_type": "code",
      "metadata": {
        "colab": {
          "base_uri": "https://localhost:8080/"
        },
        "id": "OgQT_ZNi0TWc",
        "outputId": "ce7714cc-8870-48b6-988e-98aa308633c7"
      },
      "source": [
        "class Building:\n",
        "     def __init__(self, w, c, n=0):\n",
        "         self.what = w\n",
        "         self.color = c\n",
        "         self.numbers = n\n",
        "         self.mwhere(n)\n",
        "\n",
        "     def mwhere(self, n):\n",
        "         if n <= 0:\n",
        "              self.where = \"отсутствуют\"\n",
        "         elif 0 < n < 100:\n",
        "              self.where = \"малый склад\"\n",
        "         else:\n",
        "              self.where = \"основной склад\"\n",
        "\n",
        "     def plus(self, p):\n",
        "          self.numbers = self.numbers + p\n",
        "          self.mwhere(self.numbers)  \n",
        "\n",
        "     def minus(self, m):\n",
        "          self.numbers = self.numbers - m\n",
        "          self.mwhere(self.numbers)                        \n",
        "\n",
        "m1 = Building(\"доски\", \"белые\", 50)\n",
        "m2 = Building(\"доски\", \"коричневые\", 300)\n",
        "m3 = Building(\"кирпичи\", \"белые\")\n",
        "\n",
        "print(m1.what,m1.color,m1.where)\n",
        "print(m2.what,m2.color,m2.where)\n",
        "print(m3.what,m3.color,m3.where)\n",
        "\n",
        "m1.plus(500)\n",
        "print(m1.numbers, m1.where)"
      ],
      "execution_count": null,
      "outputs": [
        {
          "output_type": "stream",
          "name": "stdout",
          "text": [
            "доски белые малый склад\n",
            "доски коричневые основной склад\n",
            "кирпичи белые отсутствуют\n",
            "550 основной склад\n"
          ]
        }
      ]
    },
    {
      "cell_type": "code",
      "metadata": {
        "colab": {
          "base_uri": "https://localhost:8080/"
        },
        "id": "Ru1AE7ZX3UDl",
        "outputId": "35c4a587-3bcd-4280-bdae-2b58a00ad605"
      },
      "source": [
        "class Room:\n",
        "    def __init__(self, w, c, n):\n",
        "        self.what = w\n",
        "        self.color = c\n",
        "        self.numbers = n\n",
        "k1 = Room(\"двери\", \"черные\", 2)\n",
        "k2 = Room(\"стенки\", \"фиолетовые\", 4)\n",
        "k3 = Room(\"окна\", \"белые\", 2)\n",
        "\n",
        "print(k1.what,k1.color,k1.numbers)\n",
        "print(k2.what,k2.color,k2.numbers)\n",
        "print(k3.what,k3.color,k3.numbers)\n"
      ],
      "execution_count": null,
      "outputs": [
        {
          "output_type": "stream",
          "name": "stdout",
          "text": [
            "двери черные 2\n",
            "стенки фиолетовые 4\n",
            "окна белые 2\n"
          ]
        }
      ]
    },
    {
      "cell_type": "markdown",
      "metadata": {
        "id": "w46W-vbf7Z10"
      },
      "source": [
        "Задание №7"
      ]
    },
    {
      "cell_type": "code",
      "metadata": {
        "colab": {
          "base_uri": "https://localhost:8080/"
        },
        "id": "q4GPmlYZ7f7q",
        "outputId": "0402f571-069f-48ff-a091-81b9ed92711d"
      },
      "source": [
        "class Things:\n",
        "    def __init__(self, n, t):\n",
        "        self.namething = n \n",
        "        self.total = t \n",
        "\n",
        "th1 = Things(\"table\", 5)\n",
        "th2 = Things(\"computer\", 7)\n",
        "\n",
        "print(th1.namething, th1.total)\n",
        "print(th2.namething, th2.total)\n",
        "\n",
        "th1.color = \"green\"\n",
        "th2.color = \"yellow\"\n",
        "print(th1.color)\n",
        "print(th2.color)\n"
      ],
      "execution_count": null,
      "outputs": [
        {
          "output_type": "stream",
          "name": "stdout",
          "text": [
            "table 5\n",
            "computer 7\n",
            "green\n",
            "yellow\n"
          ]
        }
      ]
    },
    {
      "cell_type": "markdown",
      "metadata": {
        "id": "QFzCNYLiCJZy"
      },
      "source": [
        "Задание №8"
      ]
    },
    {
      "cell_type": "code",
      "metadata": {
        "colab": {
          "base_uri": "https://localhost:8080/"
        },
        "id": "ZSJxGZrMCN48",
        "outputId": "edb90964-4312-48fd-dd36-4670da37bbe4"
      },
      "source": [
        "class Table:\n",
        "    def __init__(self, l, w, h):\n",
        "        self.long = 1\n",
        "        self.width = w\n",
        "        self.height = h\n",
        "    def outing(self):\n",
        "        print(self.long, self.width, self.height)\n",
        "\n",
        "class Kitchen(Table):\n",
        "    def howplaces(self,n):\n",
        "        if n < 2:\n",
        "              print(\"It  is not kitchen table\")\n",
        "        else:\n",
        "            self.places = n\n",
        "    def outplaces(self):\n",
        "        print(self.places)\n",
        "\n",
        "class Worker(Table):\n",
        "    def personal(self, age_human):\n",
        "      if age_human > 65:\n",
        "        print(\"Old\")\n",
        "      else:\n",
        "        print(\"Young\")\n",
        "    def outing(self):\n",
        "        print(self.personal)\n",
        "    def oklad(self, oklad):\n",
        "      if oklad > 60000:\n",
        "        print(\"Высокий\")\n",
        "      else:\n",
        "        print(\"Низкий\")\n",
        "    def out(self):\n",
        "        print(self.oklad)\n",
        "      \n",
        "t_room1 = Kitchen(2,1,0.5)\n",
        "t_room1.outing()\n",
        "t_room1.howplaces(5)\n",
        "t_room1.outplaces()\n",
        "\n",
        "t_2 = Table(1,3,0.7)\n",
        "t_2.outing()\n",
        "\n",
        "t_3 = Worker(1, 3, 28)\n",
        "t_3.personal(28)\n",
        "t_3.outing()\n",
        "t_3.oklad(120000)\n",
        "t_3.out()"
      ],
      "execution_count": null,
      "outputs": [
        {
          "output_type": "stream",
          "name": "stdout",
          "text": [
            "1 1 0.5\n",
            "5\n",
            "1 3 0.7\n",
            "Young\n",
            "<bound method Worker.personal of <__main__.Worker object at 0x7f51bc08e090>>\n",
            "Высокий\n",
            "<bound method Worker.oklad of <__main__.Worker object at 0x7f51bc08e090>>\n"
          ]
        }
      ]
    },
    {
      "cell_type": "markdown",
      "metadata": {
        "id": "W4a3rd4PoSyq"
      },
      "source": [
        "Практическая работа"
      ]
    },
    {
      "cell_type": "code",
      "metadata": {
        "colab": {
          "base_uri": "https://localhost:8080/"
        },
        "id": "5A16f5CpptfU",
        "outputId": "a414e312-16ba-45db-a4a5-43b9e8815cf8"
      },
      "source": [
        "class Figure:\n",
        "    color = \"white\"\n",
        "    def changecolor(self, newcolor):\n",
        "        self.color = newcolor\n",
        "\n",
        "class Oval(Figure):\n",
        "    def __init__(self, a, b):\n",
        "        self.a=a\n",
        "        self.b=b\n",
        "    def outing(self):\n",
        "        print(self.a, self.b)\n",
        "\n",
        "class Square(Figure):\n",
        "    def __init__(self, a):\n",
        "        self.a=a \n",
        "    def outing(self):\n",
        "        print(self.a)\n",
        "\n",
        "f_1 = Oval(3, 7)\n",
        "f_1.outing()\n",
        "f_2 = Square(8)\n",
        "f_2.outing()\n",
        "\n",
        "obj1  = Figure()\n",
        "print(obj1.color)\n",
        "obj1.changecolor(\"red\")\n",
        "print(obj1.color)"
      ],
      "execution_count": null,
      "outputs": [
        {
          "output_type": "stream",
          "name": "stdout",
          "text": [
            "3 7\n",
            "8\n",
            "white\n",
            "red\n"
          ]
        }
      ]
    }
  ]
}